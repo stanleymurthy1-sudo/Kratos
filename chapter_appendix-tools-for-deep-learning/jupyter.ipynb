{
  "cells": [
    {
      "cell_type": "code",
      "source": [
        "num"
      ],
      "metadata": {
        "colab": {
          "base_uri": "https://localhost:8080/"
        },
        "id": "6V1NB33NHR79",
        "outputId": "f5979d6f-aa0f-414c-d12b-67c3bc31af24"
      },
      "id": "6V1NB33NHR79",
      "execution_count": 4,
      "outputs": [
        {
          "output_type": "execute_result",
          "data": {
            "text/plain": [
              "60"
            ]
          },
          "metadata": {},
          "execution_count": 4
        }
      ]
    },
    {
      "cell_type": "code",
      "source": [
        "num=60"
      ],
      "metadata": {
        "id": "zSqWgJnPGrhF"
      },
      "id": "zSqWgJnPGrhF",
      "execution_count": 3,
      "outputs": []
    },
    {
      "cell_type": "code",
      "source": [
        "type(num)"
      ],
      "metadata": {
        "colab": {
          "base_uri": "https://localhost:8080/"
        },
        "id": "r7taPq0sHS0T",
        "outputId": "6d89f774-6c39-43a9-f6bc-7ae0d44c2e90"
      },
      "id": "r7taPq0sHS0T",
      "execution_count": 5,
      "outputs": [
        {
          "output_type": "execute_result",
          "data": {
            "text/plain": [
              "int"
            ]
          },
          "metadata": {},
          "execution_count": 5
        }
      ]
    },
    {
      "cell_type": "code",
      "source": [
        "nuw=60.5"
      ],
      "metadata": {
        "id": "LprdOSyFHUtJ"
      },
      "id": "LprdOSyFHUtJ",
      "execution_count": 7,
      "outputs": []
    },
    {
      "cell_type": "code",
      "source": [
        "nuw"
      ],
      "metadata": {
        "colab": {
          "base_uri": "https://localhost:8080/"
        },
        "id": "LFyzF_TxHZrV",
        "outputId": "c53443fa-2800-4c66-fb91-6bb6baf02d9f"
      },
      "id": "LFyzF_TxHZrV",
      "execution_count": 8,
      "outputs": [
        {
          "output_type": "execute_result",
          "data": {
            "text/plain": [
              "60.5"
            ]
          },
          "metadata": {},
          "execution_count": 8
        }
      ]
    },
    {
      "cell_type": "code",
      "source": [
        "type(nuw)"
      ],
      "metadata": {
        "colab": {
          "base_uri": "https://localhost:8080/"
        },
        "id": "Ijcvp5qNHcx-",
        "outputId": "283359e3-2b23-4375-c088-9ebb95dc3fc9"
      },
      "id": "Ijcvp5qNHcx-",
      "execution_count": 9,
      "outputs": [
        {
          "output_type": "execute_result",
          "data": {
            "text/plain": [
              "float"
            ]
          },
          "metadata": {},
          "execution_count": 9
        }
      ]
    },
    {
      "cell_type": "code",
      "source": [
        "var=10+5j"
      ],
      "metadata": {
        "id": "I9O3dRSPHe9Z"
      },
      "id": "I9O3dRSPHe9Z",
      "execution_count": 10,
      "outputs": []
    },
    {
      "cell_type": "code",
      "source": [
        "var"
      ],
      "metadata": {
        "colab": {
          "base_uri": "https://localhost:8080/"
        },
        "id": "oGegYEGPHjXm",
        "outputId": "2e9789d1-f733-42e8-f29e-aee3c539f6ba"
      },
      "id": "oGegYEGPHjXm",
      "execution_count": 11,
      "outputs": [
        {
          "output_type": "execute_result",
          "data": {
            "text/plain": [
              "(10+5j)"
            ]
          },
          "metadata": {},
          "execution_count": 11
        }
      ]
    },
    {
      "cell_type": "code",
      "source": [
        "type(var)"
      ],
      "metadata": {
        "colab": {
          "base_uri": "https://localhost:8080/"
        },
        "id": "GdG2FRt0HkRy",
        "outputId": "560e7902-7739-448e-e9a9-7ff29831bc64"
      },
      "id": "GdG2FRt0HkRy",
      "execution_count": 12,
      "outputs": [
        {
          "output_type": "execute_result",
          "data": {
            "text/plain": [
              "complex"
            ]
          },
          "metadata": {},
          "execution_count": 12
        }
      ]
    },
    {
      "cell_type": "code",
      "source": [
        "#Boolean"
      ],
      "metadata": {
        "id": "s05HZhQLHmUo"
      },
      "id": "s05HZhQLHmUo",
      "execution_count": 13,
      "outputs": []
    },
    {
      "cell_type": "code",
      "source": [
        "vall=True"
      ],
      "metadata": {
        "id": "GnPQXKPCIKU5"
      },
      "id": "GnPQXKPCIKU5",
      "execution_count": 15,
      "outputs": []
    },
    {
      "cell_type": "code",
      "source": [
        "vall"
      ],
      "metadata": {
        "colab": {
          "base_uri": "https://localhost:8080/"
        },
        "id": "4vyDnZIoIM2_",
        "outputId": "172650fd-fbc8-47a9-e84b-5e13a23d10b9"
      },
      "id": "4vyDnZIoIM2_",
      "execution_count": 16,
      "outputs": [
        {
          "output_type": "execute_result",
          "data": {
            "text/plain": [
              "True"
            ]
          },
          "metadata": {},
          "execution_count": 16
        }
      ]
    },
    {
      "cell_type": "code",
      "source": [
        "type(vall)"
      ],
      "metadata": {
        "colab": {
          "base_uri": "https://localhost:8080/"
        },
        "id": "MNpSBww_IQGV",
        "outputId": "0b8efe99-4105-47f9-99c6-921cf37cdb16"
      },
      "id": "MNpSBww_IQGV",
      "execution_count": 17,
      "outputs": [
        {
          "output_type": "execute_result",
          "data": {
            "text/plain": [
              "bool"
            ]
          },
          "metadata": {},
          "execution_count": 17
        }
      ]
    },
    {
      "cell_type": "code",
      "source": [
        "ball=False"
      ],
      "metadata": {
        "id": "c851DLmIIS6r"
      },
      "id": "c851DLmIIS6r",
      "execution_count": 18,
      "outputs": []
    },
    {
      "cell_type": "code",
      "source": [
        "ball"
      ],
      "metadata": {
        "colab": {
          "base_uri": "https://localhost:8080/"
        },
        "id": "_lJUjiZxIVKh",
        "outputId": "392f7aa4-ef8e-40c5-dd3e-f22cbe99196f"
      },
      "id": "_lJUjiZxIVKh",
      "execution_count": 19,
      "outputs": [
        {
          "output_type": "execute_result",
          "data": {
            "text/plain": [
              "False"
            ]
          },
          "metadata": {},
          "execution_count": 19
        }
      ]
    },
    {
      "cell_type": "code",
      "source": [
        "type(ball)"
      ],
      "metadata": {
        "colab": {
          "base_uri": "https://localhost:8080/"
        },
        "id": "NeMmbwFuIWJ3",
        "outputId": "4cf06185-3616-4e0a-b2fc-adf44e845208"
      },
      "id": "NeMmbwFuIWJ3",
      "execution_count": 20,
      "outputs": [
        {
          "output_type": "execute_result",
          "data": {
            "text/plain": [
              "bool"
            ]
          },
          "metadata": {},
          "execution_count": 20
        }
      ]
    },
    {
      "cell_type": "code",
      "source": [
        "#String is used with \"\"\",\"\"\" ''',''' '', \"\""
      ],
      "metadata": {
        "id": "e9cmnxoPIYZY"
      },
      "id": "e9cmnxoPIYZY",
      "execution_count": 21,
      "outputs": []
    },
    {
      "cell_type": "code",
      "source": [
        "str1=\"fusion\""
      ],
      "metadata": {
        "id": "WiUVI_nVI4Wx"
      },
      "id": "WiUVI_nVI4Wx",
      "execution_count": 22,
      "outputs": []
    },
    {
      "cell_type": "code",
      "source": [
        "type(str1)"
      ],
      "metadata": {
        "colab": {
          "base_uri": "https://localhost:8080/"
        },
        "id": "mmpW9Fb3I9g8",
        "outputId": "165b6bc6-2080-49da-9f3d-bce5cd37a51e"
      },
      "id": "mmpW9Fb3I9g8",
      "execution_count": 23,
      "outputs": [
        {
          "output_type": "execute_result",
          "data": {
            "text/plain": [
              "str"
            ]
          },
          "metadata": {},
          "execution_count": 23
        }
      ]
    },
    {
      "cell_type": "code",
      "source": [
        "str2='fusion2'"
      ],
      "metadata": {
        "id": "SF9KNcPKJABj"
      },
      "id": "SF9KNcPKJABj",
      "execution_count": 24,
      "outputs": []
    },
    {
      "cell_type": "code",
      "source": [
        "type(str2)"
      ],
      "metadata": {
        "colab": {
          "base_uri": "https://localhost:8080/"
        },
        "id": "UUit4CgRJE9A",
        "outputId": "513aebea-87c6-4a00-8710-62bd74d35dd4"
      },
      "id": "UUit4CgRJE9A",
      "execution_count": 25,
      "outputs": [
        {
          "output_type": "execute_result",
          "data": {
            "text/plain": [
              "str"
            ]
          },
          "metadata": {},
          "execution_count": 25
        }
      ]
    },
    {
      "cell_type": "code",
      "source": [
        "name = \"Stanley Murthy\""
      ],
      "metadata": {
        "id": "CD0ZwDWBJHJ_"
      },
      "id": "CD0ZwDWBJHJ_",
      "execution_count": 26,
      "outputs": []
    },
    {
      "cell_type": "code",
      "source": [
        "Email = \"stanley.murthy@1gmail.com\""
      ],
      "metadata": {
        "id": "D_m6m3ZIKxQ6"
      },
      "id": "D_m6m3ZIKxQ6",
      "execution_count": 27,
      "outputs": []
    },
    {
      "cell_type": "code",
      "source": [
        "mob_num = \"+91-9545299367\""
      ],
      "metadata": {
        "id": "t37ztp9aK3c4"
      },
      "id": "t37ztp9aK3c4",
      "execution_count": 29,
      "outputs": []
    },
    {
      "cell_type": "code",
      "source": [
        "type(mob_num)"
      ],
      "metadata": {
        "colab": {
          "base_uri": "https://localhost:8080/"
        },
        "id": "LGot54_EK_9w",
        "outputId": "043b89af-9659-4ba3-bb9d-72fa0f77d6dd"
      },
      "id": "LGot54_EK_9w",
      "execution_count": 31,
      "outputs": [
        {
          "output_type": "execute_result",
          "data": {
            "text/plain": [
              "str"
            ]
          },
          "metadata": {},
          "execution_count": 31
        }
      ]
    },
    {
      "cell_type": "code",
      "source": [
        "mar = \"welcome to \\\"Maharashtra\\\"\""
      ],
      "metadata": {
        "id": "2DwDwIqNLS04"
      },
      "id": "2DwDwIqNLS04",
      "execution_count": 39,
      "outputs": []
    },
    {
      "cell_type": "code",
      "source": [
        "type(mar)"
      ],
      "metadata": {
        "colab": {
          "base_uri": "https://localhost:8080/"
        },
        "id": "k41-rxM3Mpkl",
        "outputId": "dd0b5e8e-7751-46af-f66e-45d8df92168d"
      },
      "id": "k41-rxM3Mpkl",
      "execution_count": 33,
      "outputs": [
        {
          "output_type": "execute_result",
          "data": {
            "text/plain": [
              "str"
            ]
          },
          "metadata": {},
          "execution_count": 33
        }
      ]
    },
    {
      "cell_type": "code",
      "source": [
        "mar"
      ],
      "metadata": {
        "colab": {
          "base_uri": "https://localhost:8080/",
          "height": 36
        },
        "id": "WJVAn5xFMtlT",
        "outputId": "65458b82-9d3e-4f2c-e011-fb6ad434bdc6"
      },
      "id": "WJVAn5xFMtlT",
      "execution_count": 40,
      "outputs": [
        {
          "output_type": "execute_result",
          "data": {
            "text/plain": [
              "'welcome to \"Maharashtra\"'"
            ],
            "application/vnd.google.colaboratory.intrinsic+json": {
              "type": "string"
            }
          },
          "metadata": {},
          "execution_count": 40
        }
      ]
    },
    {
      "cell_type": "code",
      "source": [
        "Email"
      ],
      "metadata": {
        "colab": {
          "base_uri": "https://localhost:8080/",
          "height": 36
        },
        "id": "9t47xZImMu2Y",
        "outputId": "bcad2642-1e9e-4a33-d2f1-fe5dc5d3cf61"
      },
      "id": "9t47xZImMu2Y",
      "execution_count": 42,
      "outputs": [
        {
          "output_type": "execute_result",
          "data": {
            "text/plain": [
              "'stanley.murthy@1gmail.com'"
            ],
            "application/vnd.google.colaboratory.intrinsic+json": {
              "type": "string"
            }
          },
          "metadata": {},
          "execution_count": 42
        }
      ]
    },
    {
      "cell_type": "code",
      "source": [
        "Email[14]"
      ],
      "metadata": {
        "colab": {
          "base_uri": "https://localhost:8080/",
          "height": 36
        },
        "id": "Q3TrUhtzOD9_",
        "outputId": "68d56922-6199-4fab-8287-86a4ae80237d"
      },
      "id": "Q3TrUhtzOD9_",
      "execution_count": 44,
      "outputs": [
        {
          "output_type": "execute_result",
          "data": {
            "text/plain": [
              "'@'"
            ],
            "application/vnd.google.colaboratory.intrinsic+json": {
              "type": "string"
            }
          },
          "metadata": {},
          "execution_count": 44
        }
      ]
    },
    {
      "cell_type": "code",
      "source": [
        "name[7]"
      ],
      "metadata": {
        "id": "To8Og9sURp_5",
        "outputId": "24c4da6c-58d4-475e-e58f-d814265c6252",
        "colab": {
          "base_uri": "https://localhost:8080/",
          "height": 36
        }
      },
      "id": "To8Og9sURp_5",
      "execution_count": 45,
      "outputs": [
        {
          "output_type": "execute_result",
          "data": {
            "text/plain": [
              "' '"
            ],
            "application/vnd.google.colaboratory.intrinsic+json": {
              "type": "string"
            }
          },
          "metadata": {},
          "execution_count": 45
        }
      ]
    },
    {
      "cell_type": "code",
      "source": [
        "name[-2]"
      ],
      "metadata": {
        "id": "Of0wkEYRT0hS",
        "outputId": "a20e5dfd-59ac-4ff9-c06f-75e2eed54afe",
        "colab": {
          "base_uri": "https://localhost:8080/",
          "height": 36
        }
      },
      "id": "Of0wkEYRT0hS",
      "execution_count": 47,
      "outputs": [
        {
          "output_type": "execute_result",
          "data": {
            "text/plain": [
              "'h'"
            ],
            "application/vnd.google.colaboratory.intrinsic+json": {
              "type": "string"
            }
          },
          "metadata": {},
          "execution_count": 47
        }
      ]
    },
    {
      "cell_type": "code",
      "source": [],
      "metadata": {
        "id": "ShWF5W2NT7mS"
      },
      "id": "ShWF5W2NT7mS",
      "execution_count": null,
      "outputs": []
    }
  ],
  "metadata": {
    "kernelspec": {
      "display_name": "Python 3",
      "name": "python3"
    },
    "language_info": {
      "name": "python"
    },
    "required_libs": [],
    "colab": {
      "provenance": []
    }
  },
  "nbformat": 4,
  "nbformat_minor": 5
}